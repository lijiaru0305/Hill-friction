{
 "cells": [
  {
   "cell_type": "code",
   "execution_count": 1,
   "id": "8c971c0c",
   "metadata": {},
   "outputs": [],
   "source": [
    "%matplotlib inline\n",
    "import matplotlib.pyplot as plt\n",
    "import numpy as np\n",
    "\n",
    "plt.rcParams.update({'font.size':22})\n",
    "\n",
    "import warnings\n",
    "warnings.filterwarnings('ignore')"
   ]
  },
  {
   "cell_type": "code",
   "execution_count": 10,
   "id": "5e1d33ab",
   "metadata": {},
   "outputs": [],
   "source": [
    "iii = 3\n",
    "\n",
    "data = np.load('./data/res/3p/t4-m1e-%1d/Tinst-%1d.npy'%(iii,0))\n",
    "for i in range(0):\n",
    "    data = np.concatenate((data,np.load('./data/res/3p/t4-m1e-%1d/Tinst-%1d.npy'%(iii,i))))\n",
    "    \n",
    "np.save('./data/res/3p/t4-m1e-%1d.npy'%(iii),data)\n",
    "    "
   ]
  },
  {
   "cell_type": "code",
   "execution_count": null,
   "id": "8ce76bb1",
   "metadata": {},
   "outputs": [],
   "source": []
  }
 ],
 "metadata": {
  "kernelspec": {
   "display_name": "Python 3 (ipykernel)",
   "language": "python",
   "name": "python3"
  },
  "language_info": {
   "codemirror_mode": {
    "name": "ipython",
    "version": 3
   },
   "file_extension": ".py",
   "mimetype": "text/x-python",
   "name": "python",
   "nbconvert_exporter": "python",
   "pygments_lexer": "ipython3",
   "version": "3.9.12"
  }
 },
 "nbformat": 4,
 "nbformat_minor": 5
}
