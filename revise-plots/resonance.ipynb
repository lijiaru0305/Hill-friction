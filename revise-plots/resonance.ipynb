{
 "cells": [
  {
   "cell_type": "code",
   "execution_count": 54,
   "id": "4bf79da8",
   "metadata": {},
   "outputs": [],
   "source": [
    "%matplotlib inline\n",
    "import matplotlib.pyplot as plt\n",
    "import numpy as np\n",
    "\n",
    "plt.rcParams.update({'font.size':22})\n",
    "\n",
    "import warnings\n",
    "warnings.filterwarnings('ignore')"
   ]
  },
  {
   "cell_type": "code",
   "execution_count": 199,
   "id": "0d043ffc",
   "metadata": {},
   "outputs": [
    {
     "data": {
      "image/png": "[encoded data removed]",
      "text/plain": [
       "<Figure size 864x576 with 1 Axes>"
      ]
     },
     "metadata": {
      "needs_background": "light"
     },
     "output_type": "display_data"
    }
   ],
   "source": [
    "fig,axs = plt.subplots(1,1, sharex=True, sharey=False, figsize=(12,8))\n",
    "fig.subplots_adjust(hspace=0.0)\n",
    "\n",
    "def min180To180(val):\n",
    "    val = val%(2*np.pi)\n",
    "    lindex = val<-np.pi\n",
    "    rindex = val>+np.pi\n",
    "    val = val + 2*np.pi*lindex - 2*np.pi*rindex\n",
    "    return (val/np.pi)\n",
    "\n",
    "\n",
    "def min0To360(val):\n",
    "    val = val%(2*np.pi)\n",
    "    return (val/np.pi)\n",
    "\n",
    "for i in [3]:\n",
    "    \n",
    "    #p12_data = np.load('./data/res-res/m5K3%1d.npy'%i)\n",
    "    p12_data = np.load('./data/res-res/orbit_time_000.npy')\n",
    "\n",
    "    t = p12_data[:,0,0]\n",
    "    de = p12_data[2:,1,2] - p12_data[:-2,1,2]\n",
    "    phi = (p12_data[1:-1,1,5] - p12_data[1:-1,1,3])%(2*np.pi)\n",
    "    dM = ((p12_data[:,0,5]%(2*np.pi) - p12_data[:,1,5]%(2*np.pi)))%(2*np.pi)\n",
    "    #tmax = np.argmax(t[1:-1]==0)\n",
    "    icon =( ((dM[2:]-dM[1:-1])*(dM[1:-1]-dM[:-2]))<0 ) * (t[1:-1]<1e1)\n",
    "    #axs.scatter(phi[icon]/np.pi,de[icon],s=3)\n",
    "    l0 = p12_data[:,0,5]\n",
    "    l1 = p12_data[:,1,5]\n",
    "    pm0 = p12_data[:,0,3] + p12_data[:,0,4]\n",
    "    pm1 = p12_data[:,1,3] + p12_data[:,1,4]\n",
    "    p = 6\n",
    "    q = 1\n",
    "    ang0 = (p+q)*l1 - p*l0 - q*pm0\n",
    "    ang1 = (p+q)*l1 - p*l0 - q*pm1\n",
    "    #axs.scatter(t, l1,s=1)\n",
    "    #axs.scatter(t, min0To360(ang0),s=1)\n",
    "    #axs.scatter(t, min180To180(ang1),s=1)\n",
    "    #axs.plot(t, min180To180(ang1))\n",
    "    #axs.set_ylim([-5,5])\n",
    "    \n",
    "    #axs.scatter(t, min0To360(ang1),s=1)\n",
    "    #axs.set_xlim([0.990e5,1e5])\n",
    "    \n",
    "    axs.scatter(t, min0To360(ang1))\n",
    "    #axs.scatter(t, min180To180(ang0))\n",
    "    axs.set_xlim([0,1e2])\n",
    "    \n"
   ]
  },
  {
   "cell_type": "code",
   "execution_count": null,
   "id": "fd62b304",
   "metadata": {},
   "outputs": [],
   "source": [
    "### fig,axs = plt.subplots(1,1, sharex=True, sharey=False, figsize=(8,8))\n",
    "fig.subplots_adjust(hspace=0.0)\n",
    "\n",
    "for i in [0,1,2,3,4]:\n",
    "    \n",
    "    p12_data = np.load('./data/res-res/m4K3%1d.npy'%i)\n",
    "\n",
    "    t = p12_data[:,0,0]\n",
    "    de = p12_data[2:,1,2] - p12_data[:-2,1,2]\n",
    "    phi = (p12_data[1:-1,1,5] - p12_data[1:-1,1,3])%(2*np.pi)\n",
    "    dM = ((p12_data[:,0,5]%(2*np.pi) - p12_data[:,1,5]%(2*np.pi)))%(2*np.pi)\n",
    "    #tmax = np.argmax(t[1:-1]==0)\n",
    "    print(t[-1])\n",
    "    icon =( ((dM[2:]-dM[1:-1])*(dM[1:-1]-dM[:-2]))<0 ) * (t[1:-1]>1e-2)\n",
    "    #axs.scatter(phi[icon]/np.pi,de[icon],s=3)\n",
    "    axs.scatter(t[1:-1],phi,s=3)\n",
    "    l0 = p12_data[1:-1,0,5] - p12_data[1:-1,0,3]\n",
    "    l1 = p12_data[1:-1,1,5] - p12_data[1:-1,1,3]\n",
    "    ang = 14*l0 - 13*l1 - p12_data[1:-1,1,3]\n",
    "    axs.scatter(t[1:-1],ang%(2*np.pi),s=1)\n",
    "    axs.set_xlim([0,300])"
   ]
  },
  {
   "cell_type": "code",
   "execution_count": null,
   "id": "0d01152c",
   "metadata": {},
   "outputs": [],
   "source": []
  }
 ],
 "metadata": {
  "kernelspec": {
   "display_name": "Python 3 (ipykernel)",
   "language": "python",
   "name": "python3"
  },
  "language_info": {
   "codemirror_mode": {
    "name": "ipython",
    "version": 3
   },
   "file_extension": ".py",
   "mimetype": "text/x-python",
   "name": "python",
   "nbconvert_exporter": "python",
   "pygments_lexer": "ipython3",
   "version": "3.9.12"
  }
 },
 "nbformat": 4,
 "nbformat_minor": 5
}
